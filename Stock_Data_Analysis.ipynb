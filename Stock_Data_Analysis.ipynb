{
 "cells": [
  {
   "cell_type": "code",
   "execution_count": 1,
   "id": "d6174c46-68d6-4371-b8a2-aad7823fc695",
   "metadata": {},
   "outputs": [],
   "source": [
    "import pandas as pd"
   ]
  },
  {
   "cell_type": "code",
   "execution_count": 7,
   "id": "305685ab-173f-4220-89d3-c2f3ab53ea81",
   "metadata": {},
   "outputs": [],
   "source": [
    "df = pd.read_csv(r'C:\\Users\\91600\\Downloads\\mock_trades.csv')"
   ]
  },
  {
   "cell_type": "code",
   "execution_count": 18,
   "id": "1160a848-7a08-4eba-9bc0-eb4fe88021d7",
   "metadata": {},
   "outputs": [
    {
     "data": {
      "text/html": [
       "<div>\n",
       "<style scoped>\n",
       "    .dataframe tbody tr th:only-of-type {\n",
       "        vertical-align: middle;\n",
       "    }\n",
       "\n",
       "    .dataframe tbody tr th {\n",
       "        vertical-align: top;\n",
       "    }\n",
       "\n",
       "    .dataframe thead th {\n",
       "        text-align: right;\n",
       "    }\n",
       "</style>\n",
       "<table border=\"1\" class=\"dataframe\">\n",
       "  <thead>\n",
       "    <tr style=\"text-align: right;\">\n",
       "      <th></th>\n",
       "      <th>Date</th>\n",
       "      <th>Stock</th>\n",
       "      <th>Type</th>\n",
       "      <th>Quantity</th>\n",
       "      <th>Price</th>\n",
       "    </tr>\n",
       "  </thead>\n",
       "  <tbody>\n",
       "    <tr>\n",
       "      <th>0</th>\n",
       "      <td>2025-07-15</td>\n",
       "      <td>HDFC</td>\n",
       "      <td>Sell</td>\n",
       "      <td>47</td>\n",
       "      <td>1056.30</td>\n",
       "    </tr>\n",
       "    <tr>\n",
       "      <th>1</th>\n",
       "      <td>2025-07-02</td>\n",
       "      <td>TATA</td>\n",
       "      <td>Buy</td>\n",
       "      <td>43</td>\n",
       "      <td>2349.06</td>\n",
       "    </tr>\n",
       "    <tr>\n",
       "      <th>2</th>\n",
       "      <td>2025-07-12</td>\n",
       "      <td>RELIANCE</td>\n",
       "      <td>Sell</td>\n",
       "      <td>30</td>\n",
       "      <td>1884.86</td>\n",
       "    </tr>\n",
       "    <tr>\n",
       "      <th>3</th>\n",
       "      <td>2025-07-09</td>\n",
       "      <td>TATA</td>\n",
       "      <td>Sell</td>\n",
       "      <td>19</td>\n",
       "      <td>1764.31</td>\n",
       "    </tr>\n",
       "    <tr>\n",
       "      <th>4</th>\n",
       "      <td>2025-07-14</td>\n",
       "      <td>INFY</td>\n",
       "      <td>Buy</td>\n",
       "      <td>37</td>\n",
       "      <td>2198.51</td>\n",
       "    </tr>\n",
       "  </tbody>\n",
       "</table>\n",
       "</div>"
      ],
      "text/plain": [
       "         Date     Stock  Type  Quantity    Price\n",
       "0  2025-07-15      HDFC  Sell        47  1056.30\n",
       "1  2025-07-02      TATA   Buy        43  2349.06\n",
       "2  2025-07-12  RELIANCE  Sell        30  1884.86\n",
       "3  2025-07-09      TATA  Sell        19  1764.31\n",
       "4  2025-07-14      INFY   Buy        37  2198.51"
      ]
     },
     "execution_count": 18,
     "metadata": {},
     "output_type": "execute_result"
    }
   ],
   "source": [
    "df.head()"
   ]
  },
  {
   "cell_type": "markdown",
   "id": "e2ae705a-3dbe-41e9-a6e5-09d9a25aead2",
   "metadata": {},
   "source": [
    "### Data Cleaning"
   ]
  },
  {
   "cell_type": "markdown",
   "id": "21d4bf9f-92f5-4b7b-87a4-aedff799514c",
   "metadata": {},
   "source": [
    "#### Check if there is any null value\n"
   ]
  },
  {
   "cell_type": "code",
   "execution_count": 12,
   "id": "dcbc4e2a-daaa-4924-b79a-6589ff783730",
   "metadata": {},
   "outputs": [
    {
     "name": "stdout",
     "output_type": "stream",
     "text": [
      "<class 'pandas.core.frame.DataFrame'>\n",
      "RangeIndex: 50 entries, 0 to 49\n",
      "Data columns (total 5 columns):\n",
      " #   Column    Non-Null Count  Dtype  \n",
      "---  ------    --------------  -----  \n",
      " 0   Date      50 non-null     object \n",
      " 1   Stock     50 non-null     object \n",
      " 2   Type      50 non-null     object \n",
      " 3   Quantity  50 non-null     int64  \n",
      " 4   Price     50 non-null     float64\n",
      "dtypes: float64(1), int64(1), object(3)\n",
      "memory usage: 2.1+ KB\n"
     ]
    }
   ],
   "source": [
    "df.info()"
   ]
  },
  {
   "cell_type": "markdown",
   "id": "1993f6db-1b37-40de-8597-2384e4672057",
   "metadata": {},
   "source": [
    "### Add Total Price column"
   ]
  },
  {
   "cell_type": "code",
   "execution_count": 21,
   "id": "909ea3a9-db6b-449d-b751-19cd998252bb",
   "metadata": {},
   "outputs": [
    {
     "data": {
      "text/html": [
       "<div>\n",
       "<style scoped>\n",
       "    .dataframe tbody tr th:only-of-type {\n",
       "        vertical-align: middle;\n",
       "    }\n",
       "\n",
       "    .dataframe tbody tr th {\n",
       "        vertical-align: top;\n",
       "    }\n",
       "\n",
       "    .dataframe thead th {\n",
       "        text-align: right;\n",
       "    }\n",
       "</style>\n",
       "<table border=\"1\" class=\"dataframe\">\n",
       "  <thead>\n",
       "    <tr style=\"text-align: right;\">\n",
       "      <th></th>\n",
       "      <th>Date</th>\n",
       "      <th>Stock</th>\n",
       "      <th>Type</th>\n",
       "      <th>Quantity</th>\n",
       "      <th>Price</th>\n",
       "      <th>Total Price</th>\n",
       "    </tr>\n",
       "  </thead>\n",
       "  <tbody>\n",
       "    <tr>\n",
       "      <th>0</th>\n",
       "      <td>2025-07-15</td>\n",
       "      <td>HDFC</td>\n",
       "      <td>Sell</td>\n",
       "      <td>47</td>\n",
       "      <td>1056.30</td>\n",
       "      <td>49646.10</td>\n",
       "    </tr>\n",
       "    <tr>\n",
       "      <th>1</th>\n",
       "      <td>2025-07-02</td>\n",
       "      <td>TATA</td>\n",
       "      <td>Buy</td>\n",
       "      <td>43</td>\n",
       "      <td>2349.06</td>\n",
       "      <td>101009.58</td>\n",
       "    </tr>\n",
       "    <tr>\n",
       "      <th>2</th>\n",
       "      <td>2025-07-12</td>\n",
       "      <td>RELIANCE</td>\n",
       "      <td>Sell</td>\n",
       "      <td>30</td>\n",
       "      <td>1884.86</td>\n",
       "      <td>56545.80</td>\n",
       "    </tr>\n",
       "    <tr>\n",
       "      <th>3</th>\n",
       "      <td>2025-07-09</td>\n",
       "      <td>TATA</td>\n",
       "      <td>Sell</td>\n",
       "      <td>19</td>\n",
       "      <td>1764.31</td>\n",
       "      <td>33521.89</td>\n",
       "    </tr>\n",
       "    <tr>\n",
       "      <th>4</th>\n",
       "      <td>2025-07-14</td>\n",
       "      <td>INFY</td>\n",
       "      <td>Buy</td>\n",
       "      <td>37</td>\n",
       "      <td>2198.51</td>\n",
       "      <td>81344.87</td>\n",
       "    </tr>\n",
       "  </tbody>\n",
       "</table>\n",
       "</div>"
      ],
      "text/plain": [
       "         Date     Stock  Type  Quantity    Price  Total Price\n",
       "0  2025-07-15      HDFC  Sell        47  1056.30     49646.10\n",
       "1  2025-07-02      TATA   Buy        43  2349.06    101009.58\n",
       "2  2025-07-12  RELIANCE  Sell        30  1884.86     56545.80\n",
       "3  2025-07-09      TATA  Sell        19  1764.31     33521.89\n",
       "4  2025-07-14      INFY   Buy        37  2198.51     81344.87"
      ]
     },
     "execution_count": 21,
     "metadata": {},
     "output_type": "execute_result"
    }
   ],
   "source": [
    "df['Total Price'] = df['Quantity'] * df['Price']\n",
    "df.head()"
   ]
  },
  {
   "cell_type": "code",
   "execution_count": 23,
   "id": "b091576a-7844-409f-95d5-60b5f4ed8668",
   "metadata": {},
   "outputs": [
    {
     "data": {
      "text/plain": [
       "Date            object\n",
       "Stock           object\n",
       "Type            object\n",
       "Quantity         int64\n",
       "Price          float64\n",
       "Total Price    float64\n",
       "dtype: object"
      ]
     },
     "execution_count": 23,
     "metadata": {},
     "output_type": "execute_result"
    }
   ],
   "source": [
    "df.dtypes"
   ]
  },
  {
   "cell_type": "markdown",
   "id": "a0add3ba-b230-4216-9d4a-2ba29928f567",
   "metadata": {},
   "source": [
    "### Convert Dates Datatype in Correct datatype"
   ]
  },
  {
   "cell_type": "code",
   "execution_count": 28,
   "id": "3a9a54cd-7723-487c-a163-961651c78f69",
   "metadata": {},
   "outputs": [],
   "source": [
    "df['Date'] = pd.to_datetime(df['Date'])"
   ]
  },
  {
   "cell_type": "code",
   "execution_count": 30,
   "id": "c6dae92d-8230-4dc1-9eed-c4ca6aeab0fb",
   "metadata": {},
   "outputs": [
    {
     "data": {
      "text/plain": [
       "Date           datetime64[ns]\n",
       "Stock                  object\n",
       "Type                   object\n",
       "Quantity                int64\n",
       "Price                 float64\n",
       "Total Price           float64\n",
       "dtype: object"
      ]
     },
     "execution_count": 30,
     "metadata": {},
     "output_type": "execute_result"
    }
   ],
   "source": [
    "df.dtypes"
   ]
  },
  {
   "cell_type": "code",
   "execution_count": 32,
   "id": "9dc35779-79aa-49a2-b621-f1195f1285c5",
   "metadata": {},
   "outputs": [
    {
     "data": {
      "text/html": [
       "<div>\n",
       "<style scoped>\n",
       "    .dataframe tbody tr th:only-of-type {\n",
       "        vertical-align: middle;\n",
       "    }\n",
       "\n",
       "    .dataframe tbody tr th {\n",
       "        vertical-align: top;\n",
       "    }\n",
       "\n",
       "    .dataframe thead th {\n",
       "        text-align: right;\n",
       "    }\n",
       "</style>\n",
       "<table border=\"1\" class=\"dataframe\">\n",
       "  <thead>\n",
       "    <tr style=\"text-align: right;\">\n",
       "      <th></th>\n",
       "      <th>Date</th>\n",
       "      <th>Stock</th>\n",
       "      <th>Type</th>\n",
       "      <th>Quantity</th>\n",
       "      <th>Price</th>\n",
       "      <th>Total Price</th>\n",
       "    </tr>\n",
       "  </thead>\n",
       "  <tbody>\n",
       "    <tr>\n",
       "      <th>0</th>\n",
       "      <td>2025-07-15</td>\n",
       "      <td>HDFC</td>\n",
       "      <td>Sell</td>\n",
       "      <td>47</td>\n",
       "      <td>1056.30</td>\n",
       "      <td>49646.10</td>\n",
       "    </tr>\n",
       "    <tr>\n",
       "      <th>1</th>\n",
       "      <td>2025-07-02</td>\n",
       "      <td>TATA</td>\n",
       "      <td>Buy</td>\n",
       "      <td>43</td>\n",
       "      <td>2349.06</td>\n",
       "      <td>101009.58</td>\n",
       "    </tr>\n",
       "    <tr>\n",
       "      <th>2</th>\n",
       "      <td>2025-07-12</td>\n",
       "      <td>RELIANCE</td>\n",
       "      <td>Sell</td>\n",
       "      <td>30</td>\n",
       "      <td>1884.86</td>\n",
       "      <td>56545.80</td>\n",
       "    </tr>\n",
       "    <tr>\n",
       "      <th>3</th>\n",
       "      <td>2025-07-09</td>\n",
       "      <td>TATA</td>\n",
       "      <td>Sell</td>\n",
       "      <td>19</td>\n",
       "      <td>1764.31</td>\n",
       "      <td>33521.89</td>\n",
       "    </tr>\n",
       "    <tr>\n",
       "      <th>4</th>\n",
       "      <td>2025-07-14</td>\n",
       "      <td>INFY</td>\n",
       "      <td>Buy</td>\n",
       "      <td>37</td>\n",
       "      <td>2198.51</td>\n",
       "      <td>81344.87</td>\n",
       "    </tr>\n",
       "  </tbody>\n",
       "</table>\n",
       "</div>"
      ],
      "text/plain": [
       "        Date     Stock  Type  Quantity    Price  Total Price\n",
       "0 2025-07-15      HDFC  Sell        47  1056.30     49646.10\n",
       "1 2025-07-02      TATA   Buy        43  2349.06    101009.58\n",
       "2 2025-07-12  RELIANCE  Sell        30  1884.86     56545.80\n",
       "3 2025-07-09      TATA  Sell        19  1764.31     33521.89\n",
       "4 2025-07-14      INFY   Buy        37  2198.51     81344.87"
      ]
     },
     "execution_count": 32,
     "metadata": {},
     "output_type": "execute_result"
    }
   ],
   "source": [
    "df.head()"
   ]
  },
  {
   "cell_type": "markdown",
   "id": "f92d64fb-82f1-4103-bdf6-e8d5deaef090",
   "metadata": {},
   "source": [
    "## Data Analysis"
   ]
  },
  {
   "cell_type": "markdown",
   "id": "9bb41094-4a19-4a21-9e8a-0e0cc76e6eb2",
   "metadata": {},
   "source": [
    "### Highest Price of Stock Sell"
   ]
  },
  {
   "cell_type": "code",
   "execution_count": 50,
   "id": "6cca7262-1472-4021-9bf9-ba233c7dc5c3",
   "metadata": {},
   "outputs": [
    {
     "data": {
      "text/html": [
       "<div>\n",
       "<style scoped>\n",
       "    .dataframe tbody tr th:only-of-type {\n",
       "        vertical-align: middle;\n",
       "    }\n",
       "\n",
       "    .dataframe tbody tr th {\n",
       "        vertical-align: top;\n",
       "    }\n",
       "\n",
       "    .dataframe thead th {\n",
       "        text-align: right;\n",
       "    }\n",
       "</style>\n",
       "<table border=\"1\" class=\"dataframe\">\n",
       "  <thead>\n",
       "    <tr style=\"text-align: right;\">\n",
       "      <th></th>\n",
       "      <th>Date</th>\n",
       "      <th>Stock</th>\n",
       "      <th>Type</th>\n",
       "      <th>Quantity</th>\n",
       "      <th>Price</th>\n",
       "      <th>Total Price</th>\n",
       "    </tr>\n",
       "  </thead>\n",
       "  <tbody>\n",
       "    <tr>\n",
       "      <th>0</th>\n",
       "      <td>2025-07-15</td>\n",
       "      <td>HDFC</td>\n",
       "      <td>Sell</td>\n",
       "      <td>47</td>\n",
       "      <td>1056.30</td>\n",
       "      <td>49646.10</td>\n",
       "    </tr>\n",
       "    <tr>\n",
       "      <th>2</th>\n",
       "      <td>2025-07-12</td>\n",
       "      <td>RELIANCE</td>\n",
       "      <td>Sell</td>\n",
       "      <td>30</td>\n",
       "      <td>1884.86</td>\n",
       "      <td>56545.80</td>\n",
       "    </tr>\n",
       "    <tr>\n",
       "      <th>3</th>\n",
       "      <td>2025-07-09</td>\n",
       "      <td>TATA</td>\n",
       "      <td>Sell</td>\n",
       "      <td>19</td>\n",
       "      <td>1764.31</td>\n",
       "      <td>33521.89</td>\n",
       "    </tr>\n",
       "    <tr>\n",
       "      <th>5</th>\n",
       "      <td>2025-07-11</td>\n",
       "      <td>TATA</td>\n",
       "      <td>Sell</td>\n",
       "      <td>7</td>\n",
       "      <td>1516.74</td>\n",
       "      <td>10617.18</td>\n",
       "    </tr>\n",
       "    <tr>\n",
       "      <th>7</th>\n",
       "      <td>2025-07-04</td>\n",
       "      <td>HDFC</td>\n",
       "      <td>Sell</td>\n",
       "      <td>25</td>\n",
       "      <td>677.16</td>\n",
       "      <td>16929.00</td>\n",
       "    </tr>\n",
       "  </tbody>\n",
       "</table>\n",
       "</div>"
      ],
      "text/plain": [
       "        Date     Stock  Type  Quantity    Price  Total Price\n",
       "0 2025-07-15      HDFC  Sell        47  1056.30     49646.10\n",
       "2 2025-07-12  RELIANCE  Sell        30  1884.86     56545.80\n",
       "3 2025-07-09      TATA  Sell        19  1764.31     33521.89\n",
       "5 2025-07-11      TATA  Sell         7  1516.74     10617.18\n",
       "7 2025-07-04      HDFC  Sell        25   677.16     16929.00"
      ]
     },
     "execution_count": 50,
     "metadata": {},
     "output_type": "execute_result"
    }
   ],
   "source": [
    "Stock_sell = df[df['Type'] == 'Sell']\n",
    "Stock_sell.head()"
   ]
  },
  {
   "cell_type": "code",
   "execution_count": 52,
   "id": "e61103db-d78d-46b6-855b-ac6b5fe5b4e7",
   "metadata": {},
   "outputs": [
    {
     "data": {
      "text/plain": [
       "Stock\n",
       "HDFC         87487.80\n",
       "INFY        146825.42\n",
       "ITC          54951.16\n",
       "RELIANCE    326309.68\n",
       "TATA         97382.31\n",
       "Name: Total Price, dtype: float64"
      ]
     },
     "execution_count": 52,
     "metadata": {},
     "output_type": "execute_result"
    }
   ],
   "source": [
    "results = Stock_sell.groupby('Stock')['Total Price'].sum()\n",
    "results"
   ]
  },
  {
   "cell_type": "code",
   "execution_count": 54,
   "id": "f0494b37-18ac-41e5-ab48-d9d1958de961",
   "metadata": {},
   "outputs": [],
   "source": [
    "import matplotlib.pyplot as plt"
   ]
  },
  {
   "cell_type": "code",
   "execution_count": 61,
   "id": "dfefcb72-37be-41b7-8523-4ee5a8b29bf7",
   "metadata": {},
   "outputs": [
    {
     "data": {
      "image/png": "[encoded data removed]",
      "text/plain": [
       "<Figure size 800x500 with 1 Axes>"
      ]
     },
     "metadata": {},
     "output_type": "display_data"
    }
   ],
   "source": [
    "plt.figure(figsize=(8, 5))\n",
    "plt.bar(results.index, results.values)\n",
    "plt.xlabel('Stocks')\n",
    "plt.ylabel('Total Price')\n",
    "plt.title('Highest Sold Stocks')\n",
    "plt.xticks(results.index)\n",
    "plt.tight_layout()\n",
    "plt.show()"
   ]
  },
  {
   "cell_type": "markdown",
   "id": "eed2ad5b-816d-4e86-be27-ad155943f2b7",
   "metadata": {},
   "source": [
    "### Which Stock in highly purhcased\n"
   ]
  },
  {
   "cell_type": "code",
   "execution_count": 63,
   "id": "de0bfc70-087a-43d3-9855-e3099b8c8bee",
   "metadata": {},
   "outputs": [
    {
     "data": {
      "text/html": [
       "<div>\n",
       "<style scoped>\n",
       "    .dataframe tbody tr th:only-of-type {\n",
       "        vertical-align: middle;\n",
       "    }\n",
       "\n",
       "    .dataframe tbody tr th {\n",
       "        vertical-align: top;\n",
       "    }\n",
       "\n",
       "    .dataframe thead th {\n",
       "        text-align: right;\n",
       "    }\n",
       "</style>\n",
       "<table border=\"1\" class=\"dataframe\">\n",
       "  <thead>\n",
       "    <tr style=\"text-align: right;\">\n",
       "      <th></th>\n",
       "      <th>Date</th>\n",
       "      <th>Stock</th>\n",
       "      <th>Type</th>\n",
       "      <th>Quantity</th>\n",
       "      <th>Price</th>\n",
       "      <th>Total Price</th>\n",
       "    </tr>\n",
       "  </thead>\n",
       "  <tbody>\n",
       "    <tr>\n",
       "      <th>1</th>\n",
       "      <td>2025-07-02</td>\n",
       "      <td>TATA</td>\n",
       "      <td>Buy</td>\n",
       "      <td>43</td>\n",
       "      <td>2349.06</td>\n",
       "      <td>101009.58</td>\n",
       "    </tr>\n",
       "    <tr>\n",
       "      <th>4</th>\n",
       "      <td>2025-07-14</td>\n",
       "      <td>INFY</td>\n",
       "      <td>Buy</td>\n",
       "      <td>37</td>\n",
       "      <td>2198.51</td>\n",
       "      <td>81344.87</td>\n",
       "    </tr>\n",
       "    <tr>\n",
       "      <th>6</th>\n",
       "      <td>2025-07-14</td>\n",
       "      <td>INFY</td>\n",
       "      <td>Buy</td>\n",
       "      <td>34</td>\n",
       "      <td>2393.94</td>\n",
       "      <td>81393.96</td>\n",
       "    </tr>\n",
       "    <tr>\n",
       "      <th>8</th>\n",
       "      <td>2025-07-13</td>\n",
       "      <td>INFY</td>\n",
       "      <td>Buy</td>\n",
       "      <td>6</td>\n",
       "      <td>1602.85</td>\n",
       "      <td>9617.10</td>\n",
       "    </tr>\n",
       "    <tr>\n",
       "      <th>9</th>\n",
       "      <td>2025-07-15</td>\n",
       "      <td>TATA</td>\n",
       "      <td>Buy</td>\n",
       "      <td>15</td>\n",
       "      <td>2369.77</td>\n",
       "      <td>35546.55</td>\n",
       "    </tr>\n",
       "  </tbody>\n",
       "</table>\n",
       "</div>"
      ],
      "text/plain": [
       "        Date Stock Type  Quantity    Price  Total Price\n",
       "1 2025-07-02  TATA  Buy        43  2349.06    101009.58\n",
       "4 2025-07-14  INFY  Buy        37  2198.51     81344.87\n",
       "6 2025-07-14  INFY  Buy        34  2393.94     81393.96\n",
       "8 2025-07-13  INFY  Buy         6  1602.85      9617.10\n",
       "9 2025-07-15  TATA  Buy        15  2369.77     35546.55"
      ]
     },
     "execution_count": 63,
     "metadata": {},
     "output_type": "execute_result"
    }
   ],
   "source": [
    "Stock_purchased = df[df['Type'] == 'Buy']\n",
    "Stock_purchased.head()"
   ]
  },
  {
   "cell_type": "code",
   "execution_count": 65,
   "id": "dcfe8649-c7cc-447f-88e9-a9f4aaa112e6",
   "metadata": {},
   "outputs": [
    {
     "data": {
      "text/plain": [
       "Stock\n",
       "HDFC        124397.00\n",
       "INFY        451416.30\n",
       "ITC          14489.94\n",
       "RELIANCE    134423.62\n",
       "TATA        400660.53\n",
       "Name: Total Price, dtype: float64"
      ]
     },
     "execution_count": 65,
     "metadata": {},
     "output_type": "execute_result"
    }
   ],
   "source": [
    "results = Stock_purchased.groupby('Stock')['Total Price'].sum()\n",
    "results"
   ]
  },
  {
   "cell_type": "code",
   "execution_count": 67,
   "id": "0abe74dc-63c2-4b90-bb4e-989bbdc31db0",
   "metadata": {},
   "outputs": [
    {
     "data": {
      "image/png": "[encoded data removed]",
      "text/plain": [
       "<Figure size 800x500 with 1 Axes>"
      ]
     },
     "metadata": {},
     "output_type": "display_data"
    }
   ],
   "source": [
    "plt.figure(figsize=(8, 5))\n",
    "plt.bar(results.index, results.values)\n",
    "plt.xlabel('Stocks')\n",
    "plt.ylabel('Total Price')\n",
    "plt.title('Highest Purchased Stocks')\n",
    "plt.xticks(results.index)\n",
    "plt.tight_layout()\n",
    "plt.show()"
   ]
  },
  {
   "cell_type": "markdown",
   "id": "b64f0f21-7d18-4251-acac-38eba6aefeee",
   "metadata": {},
   "source": [
    "### The Stocks are more Purchased or Sold ?"
   ]
  },
  {
   "cell_type": "code",
   "execution_count": 82,
   "id": "5ade74e9-a649-4084-b72e-dc54dae0c340",
   "metadata": {},
   "outputs": [
    {
     "data": {
      "text/plain": [
       "Type\n",
       "Buy     669\n",
       "Sell    506\n",
       "Name: Quantity, dtype: int64"
      ]
     },
     "execution_count": 82,
     "metadata": {},
     "output_type": "execute_result"
    }
   ],
   "source": [
    "results = df.groupby('Type')['Quantity'].sum()\n",
    "results"
   ]
  },
  {
   "cell_type": "code",
   "execution_count": 86,
   "id": "9024d883-018f-4c53-aeef-4856b4935d91",
   "metadata": {},
   "outputs": [
    {
     "data": {
      "image/png": "[encoded data removed]",
      "text/plain": [
       "<Figure size 800x500 with 1 Axes>"
      ]
     },
     "metadata": {},
     "output_type": "display_data"
    }
   ],
   "source": [
    "plt.figure(figsize=(8, 5))\n",
    "plt.bar(results.index, results.values)\n",
    "plt.xlabel('Stocks')\n",
    "plt.ylabel('Quantity')\n",
    "plt.title('Sold or Purchased')\n",
    "plt.xticks(results.index)\n",
    "plt.tight_layout()\n",
    "plt.show()"
   ]
  },
  {
   "cell_type": "code",
   "execution_count": null,
   "id": "09524412-ef0e-4acc-b874-54930c1293cf",
   "metadata": {},
   "outputs": [],
   "source": []
  }
 ],
 "metadata": {
  "kernelspec": {
   "display_name": "Python [conda env:base] *",
   "language": "python",
   "name": "conda-base-py"
  },
  "language_info": {
   "codemirror_mode": {
    "name": "ipython",
    "version": 3
   },
   "file_extension": ".py",
   "mimetype": "text/x-python",
   "name": "python",
   "nbconvert_exporter": "python",
   "pygments_lexer": "ipython3",
   "version": "3.12.7"
  }
 },
 "nbformat": 4,
 "nbformat_minor": 5
}
